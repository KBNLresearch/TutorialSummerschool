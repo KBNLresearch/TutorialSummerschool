{
 "cells": [
  {
   "cell_type": "markdown",
   "metadata": {},
   "source": [
    "# Filtering the corpus\n",
    "\n",
    "In this Notebook, we will filter the corpus to create a smaller corpus that contains aricles about a specific topic. \n",
    "\n",
    ">Note Marijn: What I had in mind was selecting articles that contain the word 'Atjeh' or 'Atjehoorlog', which is a [war](https://en.wikipedia.org/wiki/Aceh_War) that started in 1873 in Atjeh, Indonesia. Create a new DataFrame and make some basic visualizations to see what the corpus consists of. You can re-use code from Notebook 2 for this. "
   ]
  },
  {
   "cell_type": "code",
   "execution_count": null,
   "metadata": {},
   "outputs": [],
   "source": []
  }
 ],
 "metadata": {
  "language_info": {
   "name": "python"
  }
 },
 "nbformat": 4,
 "nbformat_minor": 2
}
