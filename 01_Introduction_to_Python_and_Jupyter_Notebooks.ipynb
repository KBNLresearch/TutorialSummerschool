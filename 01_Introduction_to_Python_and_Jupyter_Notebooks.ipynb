{
 "cells": [
  {
   "cell_type": "markdown",
   "id": "fd1e04bf",
   "metadata": {},
   "source": [
    "# Introduction to Python and Jupyter Notebooks\n",
    "\n",
    "## About Python\n",
    "\n",
    "Python is a programming language that allows you to create various types of programs. It is known for being relatively easy to learn compared to other programming languages. The language was designed by the Dutch programmer Guido van Rossum in 1989.\n",
    "\n",
    "Python has become extremely popular in data analysis. There are many libraries available that support tasks like manipulating data, creating visualizations, and implementing machine learning algorithms.\n",
    "\n",
    "## About Jupyter Notebooks\n",
    "\n",
    "Jupyter Notebooks are a great tool for literate programming. This means that Jupyter Notebooks allow programmers and data scientists to write documentation alongside code snippets and visualizations. Notebooks can be opened directly from the browser. They enable users to write Python code interactively. The default and most widely used kernel for Jupyter Notebooks is the IPython kernel, specifically designed to execute Python code efficiently.\n",
    "\n",
    "## Getting started with Python and Jupyter Notebooks\n",
    "\n",
    "Ensure Python is installed on your system. You can download it from [python.org](https://www.python.org/) or use a distribution like Anaconda that comes with Python and Jupyter pre-installed. Open your terminal (or command prompt) and navigate to the directory where the project containing the Jupyter Notebooks is located.\n",
    "\n",
    "In the terminal, type the following command and press Enter:\n",
    "\n",
    "`jupyter notebook`\n",
    "\n",
    "This will start the Jupyter Notebook server and open a new tab or window in your default web browser.\n",
    "\n",
    "### Jupyter Notebooks: the basics\n",
    "\n",
    "Notebooks consist of **_cells_**. Generally, two types of cells are used: markdown cells and Python cells. Markdown cells are used to write text, such as in this cell. Just like in this lesson, markdown cells are often used to provide explanation about the code in a Notebook. Code is written in Python cells. \n",
    "\n",
    "You can execute or **_run_** cells in a Notebook by selecting a cell en selecting \"Run\" in the top menu. You can also run cells by selecting them and pressing Shift + Enter on your keyboard. Running a markdown cell does not do anything, you will simply move on the the next cell. Running a Python cell will execute the code in that cell. Depending on the code, the cell can give an output after it's run. The output will be displayed below the cell. \n",
    "\n",
    "> **Exercise:** Run the following cells. What's the output?"
   ]
  },
  {
   "cell_type": "code",
   "execution_count": 4,
   "id": "d87e61b4",
   "metadata": {},
   "outputs": [
    {
     "name": "stdout",
     "output_type": "stream",
     "text": [
      "I've run my first Python cell!\n"
     ]
    }
   ],
   "source": [
    "print(\"I've run my first Python cell!\")"
   ]
  },
  {
   "cell_type": "code",
   "execution_count": 1,
   "id": "1598b5fc",
   "metadata": {},
   "outputs": [
    {
     "data": {
      "text/plain": [
       "7"
      ]
     },
     "execution_count": 1,
     "metadata": {},
     "output_type": "execute_result"
    }
   ],
   "source": [
    "3 + 4"
   ]
  },
  {
   "cell_type": "code",
   "execution_count": 2,
   "id": "75b996a6",
   "metadata": {},
   "outputs": [
    {
     "name": "stdout",
     "output_type": "stream",
     "text": [
      "3 + 4 = 7\n"
     ]
    }
   ],
   "source": [
    "answer = 3 + 4\n",
    "print(\"3 + 4 =\", answer)"
   ]
  },
  {
   "cell_type": "markdown",
   "id": "33ff69ca-c731-4f5b-9df2-54fc475ca0b7",
   "metadata": {},
   "source": [
    "### Insert a new 'Markdown' cell\n",
    "A Markdown cell is for documentation.\n",
    "\n",
    "Add a new cell\n",
    "<center>\n",
    "<img src=\"./images/add_cell.png\" width=\"200px\" alt=\"image that shows how to add a new insert a cell below with the +-button\" />\n",
    "</center>\n",
    "\n",
    "Turn the cell into a 'Markdown' cell.\n",
    "<center>\n",
    "<img src=\"./images/add_markdown_cell.png\" width=\"200px\" alt=\"image that shows how to turn a cell into a Markdown cell\" />\n",
    "</center\n",
    "\n",
    "Try it yourself and write some text."
   ]
  },
  {
   "cell_type": "markdown",
   "id": "322e6172-0d2f-4342-b88d-1b79e12a5cb1",
   "metadata": {},
   "source": [
    "#### Turn the cell into a 'Code' cell\n",
    "A code cell is for code that can be executed by the kernel.\n",
    "\n",
    "Add a new cell below this cell, then turn it into a 'Code' cell.\n",
    "\n",
    "<center>\n",
    "<img src=\"./images/add_code_cell.png\" width=\"200px\" alt=\"image that shows how to turn a cell into a Code cell\" />\n",
    "</center\n",
    "\n",
    "Try it yourself and write some Python code."
   ]
  },
  {
   "cell_type": "code",
   "execution_count": null,
   "id": "6febd18d-436b-408e-bb7d-2c49a4311f65",
   "metadata": {},
   "outputs": [],
   "source": []
  }
 ],
 "metadata": {
  "kernelspec": {
   "display_name": "Python 3 (ipykernel)",
   "language": "python",
   "name": "python3"
  },
  "language_info": {
   "codemirror_mode": {
    "name": "ipython",
    "version": 3
   },
   "file_extension": ".py",
   "mimetype": "text/x-python",
   "name": "python",
   "nbconvert_exporter": "python",
   "pygments_lexer": "ipython3",
   "version": "3.9.19"
  }
 },
 "nbformat": 4,
 "nbformat_minor": 5
}
