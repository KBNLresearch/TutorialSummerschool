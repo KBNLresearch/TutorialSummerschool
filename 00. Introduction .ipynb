{
 "cells": [
  {
   "cell_type": "markdown",
   "id": "efe0f1fe-007f-40c1-8bbe-8abdbee63f67",
   "metadata": {},
   "source": [
    "# Extract and analyse newspaper articles from Delpher with Python"
   ]
  },
  {
   "cell_type": "markdown",
   "id": "038bee10",
   "metadata": {},
   "source": [
    "## Introduction\n",
    "\n",
    "TODO: aanvullen/bijwerken\n",
    "\n",
    "Online data services, such as Delpher, offer a wealth of information. However, this information is only useful when you know how to obtain and filter it. In this lesson, we will select and download relevant articles from Delpher, using a Delpher API key. Furthermore, we will use Python to perform basic computational analysis on the corpus. Apart from basic preprocessing steps, we will cover essential topics in natural language processing, such as topic modelling and sentiment analysis. While this tutorial is in English, we will use and analyse a Dutch corpus.      \n",
    "\n",
    "### For whom?\n",
    "The tutorial is aimed at researchers, PhD students and Master students in the Humanities. You don't need to have any programming experience to complete this tutorial. \n",
    "\n",
    "### Lesson goals\n",
    "After finishing this tutorial, you will be able to:\n",
    "- Use an API key to collect a corpus from Delpher and upload this corpus to a platform for Python analysis (using Jupyter Notebook)\n",
    "- Inspect the retreived data with some basic text analyses\n",
    "- Perform basic preprocessing steps to make your data more interpretable for machines\n",
    "- Conduct computational analysis on a corpus of texts, including topic modelling and sentiment analysis"
   ]
  }
 ],
 "metadata": {
  "kernelspec": {
   "display_name": "Python 3 (ipykernel)",
   "language": "python",
   "name": "python3"
  },
  "language_info": {
   "codemirror_mode": {
    "name": "ipython",
    "version": 3
   },
   "file_extension": ".py",
   "mimetype": "text/x-python",
   "name": "python",
   "nbconvert_exporter": "python",
   "pygments_lexer": "ipython3",
   "version": "3.9.12"
  }
 },
 "nbformat": 4,
 "nbformat_minor": 5
}
