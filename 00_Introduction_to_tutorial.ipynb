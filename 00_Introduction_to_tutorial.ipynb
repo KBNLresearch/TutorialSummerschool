{
 "cells": [
  {
   "cell_type": "markdown",
   "id": "efe0f1fe-007f-40c1-8bbe-8abdbee63f67",
   "metadata": {},
   "source": [
    "# Introduction to this tutorial"
   ]
  },
  {
   "cell_type": "markdown",
   "id": "038bee10",
   "metadata": {},
   "source": [
    "Online data services, such as [Delpher](https://www.delpher.nl/), offer a wealth of information. In this tutorial, we will use computational methods to analyse and visualize a corpus of texts. Apart from basic preprocessing steps, we will use different methods to visualize a corpus and find interesting patterns. While this tutorial is in English, we will use and analyse a Dutch corpus.      \n",
    "\n",
    "### For whom?\n",
    "The tutorial is aimed at researchers, PhD students and Master students in the Humanities.  \n",
    "\n",
    "### Prerequisites\n",
    "You don't need to have any programming experience to complete this tutorial. However, if it is your first time using Python and/or Jupyter Notebooks, we recommend you read through [this introduction](https://kbnlresearch.github.io/xml-workshop/1_introduction_python.html) before starting the tutorial. The next chapter will also provide a short introduction to Python and Jupyter Notebooks. \n",
    "\n",
    "### Lesson goals\n",
    "After finishing this tutorial, you will be able to:\n",
    "- Perform basic text analysis with Python, using a Jupyter Notebook\n",
    "- Inspect the retreived data with some basic text analysis and visualization techniques\n",
    "- Perform basic preprocessing steps to make your data more interpretable for machines\n",
    "- Conduct computational analysis on a corpus of texts, such as named entity recognition"
   ]
  }
 ],
 "metadata": {
  "kernelspec": {
   "display_name": "Python 3 (ipykernel)",
   "language": "python",
   "name": "python3"
  },
  "language_info": {
   "codemirror_mode": {
    "name": "ipython",
    "version": 3
   },
   "file_extension": ".py",
   "mimetype": "text/x-python",
   "name": "python",
   "nbconvert_exporter": "python",
   "pygments_lexer": "ipython3",
   "version": "3.9.12"
  }
 },
 "nbformat": 4,
 "nbformat_minor": 5
}
