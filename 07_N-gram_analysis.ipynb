{
 "cells": [
  {
   "cell_type": "markdown",
   "metadata": {},
   "source": [
    "# N-gram analysis \n",
    "\n",
    "In this Notebook, we will do (N-gram analysis)[https://en.wikipedia.org/wiki/N-gram] on our Atjeh-corpus. This will allow us to see which words tend to co-occur together. \n",
    "\n",
    "> Possible source: https://www.askpython.com/python/examples/n-grams-python-nltk"
   ]
  },
  {
   "cell_type": "code",
   "execution_count": null,
   "metadata": {},
   "outputs": [],
   "source": []
  }
 ],
 "metadata": {
  "language_info": {
   "name": "python"
  }
 },
 "nbformat": 4,
 "nbformat_minor": 2
}
