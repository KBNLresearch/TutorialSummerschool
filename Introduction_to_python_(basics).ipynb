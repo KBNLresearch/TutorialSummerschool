{
 "cells": [
  {
   "cell_type": "markdown",
   "metadata": {
    "id": "UssaeB0WPuMx"
   },
   "source": [
    "# Introduction to Python\n",
    "\n",
    "## 1. Basics of Python"
   ]
  },
  {
   "cell_type": "code",
   "execution_count": 1,
   "metadata": {
    "colab": {
     "base_uri": "https://localhost:8080/"
    },
    "id": "7IBLOHIKPHjs",
    "outputId": "3a4b0d8b-7257-4a0c-8daf-293449710b2e"
   },
   "outputs": [
    {
     "name": "stdout",
     "output_type": "stream",
     "text": [
      "10\n",
      "Hello\n"
     ]
    }
   ],
   "source": [
    "# Variables and functions\n",
    "x = 10\n",
    "y = \"Hello\"\n",
    "print(x)\n",
    "print(y)\n"
   ]
  },
  {
   "cell_type": "code",
   "execution_count": null,
   "metadata": {
    "colab": {
     "base_uri": "https://localhost:8080/"
    },
    "id": "rs2RHLoSPotS",
    "outputId": "65f3d64c-9d1b-445f-e216-fe28c98761c0"
   },
   "outputs": [
    {
     "name": "stdout",
     "output_type": "stream",
     "text": [
      "String = Hello, World!\n",
      "List = [1, 2, 3, 'apple', 'banana']\n"
     ]
    }
   ],
   "source": [
    "# Numbers\n",
    "integer = 10\n",
    "float_num = 20.5\n",
    "complex_num = 1 + 2j\n",
    "\n",
    "# Strings\n",
    "string = \"Hello, World!\"\n",
    "print(\"String =\", string )\n",
    "\n",
    "# Lists\n",
    "my_list = [1, 2, 3, \"apple\", \"banana\"]\n",
    "print(\"List =\", my_list )\n",
    "\n",
    "user_input = input(\"Please enter a number: \")\n",
    "\n",
    "if '.' in user_input:\n",
    "    print(f\"You entered a float: {user_input}\")\n",
    "else:\n",
    "    print(f\"You entered an integer: {user_input}\")"
   ]
  },
  {
   "cell_type": "markdown",
   "metadata": {
    "id": "eaGIv7BsQCuS"
   },
   "source": [
    "# 2. Arthmetic Operations"
   ]
  },
  {
   "cell_type": "code",
   "execution_count": null,
   "metadata": {
    "colab": {
     "base_uri": "https://localhost:8080/"
    },
    "id": "hOXMYpKqQGG2",
    "outputId": "3015bba4-dc0e-4ea7-cfa6-6c3cf739bb28"
   },
   "outputs": [],
   "source": [
    "a = 10\n",
    "b = 5\n",
    "print(a + b)  # Addition\n",
    "print(a - b)  # Subtraction\n",
    "print(a * b)  # Multiplication\n",
    "print(a / b)  # Division\n"
   ]
  },
  {
   "cell_type": "code",
   "execution_count": null,
   "metadata": {
    "colab": {
     "base_uri": "https://localhost:8080/"
    },
    "id": "K4GPbpVdQO9-",
    "outputId": "a3bc015c-25e0-43aa-c895-053d821a8e0f"
   },
   "outputs": [],
   "source": [
    "# Comparison Operators\n",
    "print(a == b)\n",
    "print(a != b)\n",
    "print(a > b)\n",
    "print(a < b)\n",
    "print(a >= b)\n",
    "print(a <= b)\n"
   ]
  },
  {
   "cell_type": "code",
   "execution_count": null,
   "metadata": {
    "colab": {
     "base_uri": "https://localhost:8080/"
    },
    "id": "nOSqvUWaQQ7N",
    "outputId": "2f057a43-b2e7-47b2-8438-95e916fcba80"
   },
   "outputs": [],
   "source": [
    "\n",
    "# Logical Operators\n",
    "print(a > 5 and b < 5)\n",
    "print(a > 5 or b < 5)\n",
    "print(not(a > 5))"
   ]
  },
  {
   "cell_type": "markdown",
   "metadata": {
    "id": "MexaNPZxQUdF"
   },
   "source": [
    "# 3. If .... Else\n"
   ]
  },
  {
   "cell_type": "code",
   "execution_count": null,
   "metadata": {
    "colab": {
     "base_uri": "https://localhost:8080/"
    },
    "id": "x_dWDVM1QTuG",
    "outputId": "389c60c8-6ee9-423c-e2f5-07d381a646ef"
   },
   "outputs": [],
   "source": [
    "# If-Else Statements\n",
    "age = 18\n",
    "if age >= 18:\n",
    "    print(\"You are an adult.\")\n",
    "else:\n",
    "    print(\"You are a minor.\")"
   ]
  },
  {
   "cell_type": "markdown",
   "metadata": {
    "id": "UDXgorVURDhJ"
   },
   "source": [
    "# 4. Loops"
   ]
  },
  {
   "cell_type": "code",
   "execution_count": null,
   "metadata": {
    "colab": {
     "base_uri": "https://localhost:8080/"
    },
    "id": "-h2ryNtURE7M",
    "outputId": "fb4cefe4-a02b-4ffa-963f-2dd9aa4cc3a9"
   },
   "outputs": [],
   "source": [
    "# For Loop\n",
    "for Numbers in range(5):\n",
    "    print(Numbers)\n"
   ]
  },
  {
   "cell_type": "code",
   "execution_count": null,
   "metadata": {
    "colab": {
     "base_uri": "https://localhost:8080/"
    },
    "id": "XP68jHzvV54r",
    "outputId": "85a2d73f-3fb3-4ba9-c0bd-bf16818b1b38"
   },
   "outputs": [],
   "source": [
    "# For Loop Example 2\n",
    "for Numbers in range(1,5):\n",
    "    print(Numbers)\n"
   ]
  },
  {
   "cell_type": "code",
   "execution_count": null,
   "metadata": {
    "colab": {
     "base_uri": "https://localhost:8080/"
    },
    "id": "GDkJELbIRKPj",
    "outputId": "5c7696c3-e7d2-4c00-d06b-4797468f6b95"
   },
   "outputs": [],
   "source": [
    "# Initialize the counter\n",
    "count = 4\n",
    "\n",
    "# Start the while loop\n",
    "while count <= 5:\n",
    "    # Print the current count\n",
    "    print(count)\n",
    "\n",
    "    # Increment the counter\n",
    "    count += 1\n",
    "\n",
    "# Print a final message after the loop ends\n",
    "print(\"Finished counting!\")"
   ]
  },
  {
   "cell_type": "markdown",
   "metadata": {
    "id": "Sr2fIk_NQ-LG"
   },
   "source": [
    "# Handling Error/Exception"
   ]
  },
  {
   "cell_type": "code",
   "execution_count": null,
   "metadata": {
    "colab": {
     "base_uri": "https://localhost:8080/"
    },
    "id": "kUzpu3JfWbpe",
    "outputId": "e60533f9-a0f5-491a-8444-b8fbcfd0fcfa"
   },
   "outputs": [],
   "source": [
    "def check_age():\n",
    "    age_input = input(\"Please enter your age: \")\n",
    "    age = int(age_input)\n",
    "    # If the conversion is successful, check if the age is 18 or above\n",
    "    if age >= 18:\n",
    "      print(\"You are an adult.\")\n",
    "    else:\n",
    "      print(\"You are a minor.\")\n",
    "# Call the function\n",
    "check_age()\n"
   ]
  },
  {
   "cell_type": "code",
   "execution_count": null,
   "metadata": {
    "id": "nSUoyc_JQ4z6"
   },
   "outputs": [],
   "source": [
    "def check_age():\n",
    "    age_input = input(\"Please enter your age: \")\n",
    "\n",
    "    try:\n",
    "        # Try to convert the input to an integer\n",
    "        age = int(age_input)\n",
    "\n",
    "        # If the conversion is successful, check if the age is 18 or above\n",
    "        if age >= 18:\n",
    "            print(\"You are an adult.\")\n",
    "        else:\n",
    "            print(\"You are a minor.\")\n",
    "    except ValueError:\n",
    "        # If there is a ValueError, it means the input was not a number\n",
    "        print(\"Please enter a numerical value.\")\n",
    "\n",
    "# Call the function\n",
    "check_age()\n"
   ]
  },
  {
   "cell_type": "markdown",
   "metadata": {
    "id": "813wCmFaRNn6"
   },
   "source": [
    "# Libraries"
   ]
  },
  {
   "cell_type": "markdown",
   "metadata": {
    "id": "otudkrVHXaMK"
   },
   "source": [
    "### Numpy\n",
    "\n",
    "The numpy library is widely used in Python for numerical and scientific computing because it offers powerful features and performance optimizations for handling large arrays and matrices."
   ]
  },
  {
   "cell_type": "code",
   "execution_count": null,
   "metadata": {
    "colab": {
     "base_uri": "https://localhost:8080/"
    },
    "id": "ghSHC8FbOmBC",
    "outputId": "5ed6c6cf-54f5-4106-edc3-7577295bef7f"
   },
   "outputs": [],
   "source": [
    "import numpy as np\n",
    "\n",
    "# Create a numpy array\n",
    "array = np.array([1, 2, 3, 4, 5])\n",
    "\n",
    "# Calculate the mean of the array\n",
    "mean = np.mean(array)\n",
    "print(mean)\n",
    "\n",
    "# Calculate the standard deviation\n",
    "std_dev = np.std(array)\n",
    "print(std_dev)\n",
    "\n"
   ]
  },
  {
   "cell_type": "markdown",
   "metadata": {
    "id": "qHvL7JXNZMF2"
   },
   "source": [
    "### Pandas\n",
    "\n",
    "The pandas library is widely used in Python for data manipulation and analysis because it offers powerful, flexible, and easy-to-use data structures and data analysis tools."
   ]
  },
  {
   "cell_type": "code",
   "execution_count": null,
   "metadata": {
    "colab": {
     "base_uri": "https://localhost:8080/"
    },
    "id": "4nZR_cNuYTKY",
    "outputId": "bdac6637-391a-400f-a7be-9c788bedc30e"
   },
   "outputs": [],
   "source": [
    "import pandas as pd\n",
    "# Create a DataFrame with missing values\n",
    "data = pd.DataFrame({\n",
    "    'Name': ['Alice', 'Bob', 'Charlie', 'Diana'],\n",
    "    'Age': [25, None, 35, 40],\n",
    "    'City': ['New York', 'Los Angeles', None, 'Houston']\n",
    "})\n",
    "print(data)\n",
    "print(\"After dropping missing values:\")\n",
    "\n",
    "# Drop rows with missing values\n",
    "data_dropped = data.dropna()\n",
    "print(data_dropped)"
   ]
  },
  {
   "cell_type": "markdown",
   "metadata": {
    "id": "w-txFrlHZdWu"
   },
   "source": [
    "### Matplotlib\n",
    "\n",
    "It is widely used in Python for creating static, interactive, and animated visualizations. It is a versatile and powerful library that allows users to generate a wide variety of plots and charts."
   ]
  },
  {
   "cell_type": "code",
   "execution_count": null,
   "metadata": {
    "colab": {
     "base_uri": "https://localhost:8080/",
     "height": 472
    },
    "id": "MYiQVFHyO0iJ",
    "outputId": "960c6b66-056f-42ee-94fd-ec12884a451c"
   },
   "outputs": [],
   "source": [
    "import matplotlib.pyplot as plt\n",
    "\n",
    "# Creating a simple plot\n",
    "x = [1, 2, 3, 4]\n",
    "y = [10, 20, 25, 30]\n",
    "plt.plot(x, y)\n",
    "plt.xlabel('X axis')\n",
    "plt.ylabel('Y axis')\n",
    "plt.title('Simple Plot')\n",
    "plt.show()\n"
   ]
  },
  {
   "cell_type": "markdown",
   "metadata": {
    "id": "F2eEFi8Pci1O"
   },
   "source": [
    "### Seaborn\n",
    "\n",
    "It is a Python visualization library based on matplotlib that provides a high-level interface for drawing attractive and informative statistical graphics. It builds on top of matplotlib and integrates well with pandas data structures, making it particularly useful for statistical data visualization."
   ]
  },
  {
   "cell_type": "code",
   "execution_count": null,
   "metadata": {
    "colab": {
     "base_uri": "https://localhost:8080/",
     "height": 565
    },
    "id": "LVqfbXTTO4nK",
    "outputId": "234d7cfc-40c7-48d4-a954-350ed805dd6f"
   },
   "outputs": [],
   "source": [
    "import seaborn as sns\n",
    "\n",
    "# Load the tips dataset from seaborn\n",
    "tips = sns.load_dataset('tips')\n",
    "\n",
    "# Display the first few rows of the dataset\n",
    "print(tips.head())\n",
    "\n",
    "# Creating a simple plot\n",
    "sns.set(style=\"darkgrid\")\n",
    "tips = sns.load_dataset(\"tips\")\n",
    "sns.scatterplot(x=\"total_bill\", y=\"tip\", data=tips)\n",
    "plt.show()\n"
   ]
  },
  {
   "cell_type": "code",
   "execution_count": null,
   "metadata": {
    "colab": {
     "base_uri": "https://localhost:8080/",
     "height": 480
    },
    "id": "vUS8fzxCbQjK",
    "outputId": "97224ab5-755f-449f-81ae-8b47a9420cf3"
   },
   "outputs": [],
   "source": [
    "# Estimate a conditional kernel density plot\n",
    "sns.kdeplot(x='total_bill', hue='day', data=tips, fill=True)\n",
    "plt.title('Conditional Kernel Density Plot of Total Bill by Day')\n",
    "plt.show()\n"
   ]
  }
 ],
 "metadata": {
  "colab": {
   "provenance": []
  },
  "kernelspec": {
   "display_name": "Python 3 (ipykernel)",
   "language": "python",
   "name": "python3"
  },
  "language_info": {
   "codemirror_mode": {
    "name": "ipython",
    "version": 3
   },
   "file_extension": ".py",
   "mimetype": "text/x-python",
   "name": "python",
   "nbconvert_exporter": "python",
   "pygments_lexer": "ipython3",
   "version": "3.9.19"
  }
 },
 "nbformat": 4,
 "nbformat_minor": 4
}
