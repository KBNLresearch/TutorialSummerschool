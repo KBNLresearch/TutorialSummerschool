{
 "cells": [
  {
   "cell_type": "markdown",
   "metadata": {},
   "source": [
    "# Wordclouds\n",
    "\n",
    "In this Notebook, we will create wordclouds to visualize common words in our Atjeh-corpus. \n",
    "\n",
    "> You can use code from the previous repository for this. It might be nice to compare the three different newspapers and also compare wordcloud with versus without stopwords. \n",
    "\n"
   ]
  },
  {
   "cell_type": "code",
   "execution_count": null,
   "metadata": {},
   "outputs": [],
   "source": []
  }
 ],
 "metadata": {
  "language_info": {
   "name": "python"
  }
 },
 "nbformat": 4,
 "nbformat_minor": 2
}
