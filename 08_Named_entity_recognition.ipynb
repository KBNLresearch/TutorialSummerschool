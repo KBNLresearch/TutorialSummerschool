{
 "cells": [
  {
   "cell_type": "markdown",
   "metadata": {},
   "source": [
    "# Named entity recognition\n",
    "\n",
    "In this notebook, we will perform named entity recognition on one of the articles, and we will explain why this might be useful.\n",
    "\n",
    "> You can use my code from the old repository for this. It might be nice to add a bit more explanation to it. Also, as this is the last Notebook, it's nice to have a bit of a general round up. You can also add a different Notebook for this of course."
   ]
  },
  {
   "cell_type": "code",
   "execution_count": null,
   "metadata": {},
   "outputs": [],
   "source": []
  }
 ],
 "metadata": {
  "language_info": {
   "name": "python"
  }
 },
 "nbformat": 4,
 "nbformat_minor": 2
}
