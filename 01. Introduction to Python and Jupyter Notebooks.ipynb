{
 "cells": [
  {
   "cell_type": "markdown",
   "id": "fd1e04bf",
   "metadata": {},
   "source": [
    "# Introduction to Python and Jupyter Notebooks\n",
    "\n",
    "TO DO: misschien uitbreiden met iets meer toelichting over Python en Notebooks? (bijv. een verkorte versie van (https://kbnlresearch.github.io/xml-workshop/1_introduction_python.html)\n",
    "\n",
    "## Getting started\n",
    "\n",
    "TODO: Hoe moet je dit notebook openen en runnen?\n",
    "\n",
    "### Jupyter Notebooks: the basics\n",
    "\n",
    "Jupyter Notebooks are a great tool for literate programming. This means that Notebooks allow you to write code that is both machine-readable and human-readable.\n",
    "\n",
    "Notebooks consist of **_cells_**. Generally, two types of cells are used: markdown cells and Python cells. Markdown cells are used to write text, such as in this cell. Just like in this lesson, markdown cells are often used to provide explanation about the code in a Notebook. Code is written in Python cells. \n",
    "\n",
    "You can execute or **_run_** cells in a Notebook by selecting a cell en selecting \"Run\" in the top menu. You can also run cells by selecting them and pressing Shift + Enter on your keyboard. Running a markdown cell does not do anything, you will simply move on the the next cell. Running a Python cell will execute the code in that cell. Depending on the code, the cell can give an output after it's run. The output will be displayed below the cell. \n",
    "\n",
    "> **Exercise:** Run the following cells."
   ]
  },
  {
   "cell_type": "code",
   "execution_count": 1,
   "id": "d87e61b4",
   "metadata": {},
   "outputs": [
    {
     "name": "stdout",
     "output_type": "stream",
     "text": [
      "I've run my first Python cell!\n"
     ]
    }
   ],
   "source": [
    "print(\"I've run my first Python cell!\")"
   ]
  },
  {
   "cell_type": "code",
   "execution_count": 2,
   "id": "1598b5fc",
   "metadata": {},
   "outputs": [
    {
     "data": {
      "text/plain": [
       "7"
      ]
     },
     "execution_count": 2,
     "metadata": {},
     "output_type": "execute_result"
    }
   ],
   "source": [
    "3 + 4"
   ]
  },
  {
   "cell_type": "code",
   "execution_count": 3,
   "id": "75b996a6",
   "metadata": {},
   "outputs": [
    {
     "name": "stdout",
     "output_type": "stream",
     "text": [
      "3 + 4 = 7\n"
     ]
    }
   ],
   "source": [
    "answer = 3 + 4\n",
    "print(\"3 + 4 =\", answer)"
   ]
  }
 ],
 "metadata": {
  "kernelspec": {
   "display_name": "Python 3 (ipykernel)",
   "language": "python",
   "name": "python3"
  },
  "language_info": {
   "codemirror_mode": {
    "name": "ipython",
    "version": 3
   },
   "file_extension": ".py",
   "mimetype": "text/x-python",
   "name": "python",
   "nbconvert_exporter": "python",
   "pygments_lexer": "ipython3",
   "version": "3.9.12"
  }
 },
 "nbformat": 4,
 "nbformat_minor": 5
}
