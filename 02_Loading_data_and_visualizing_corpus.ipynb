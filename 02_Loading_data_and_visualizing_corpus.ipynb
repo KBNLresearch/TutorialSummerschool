{
 "cells": [
  {
   "cell_type": "markdown",
   "id": "ed0f0875",
   "metadata": {},
   "source": [
    "# Loading data and visualizing the corpus\n",
    "\n",
    "In this Notebook, we will load the data from Delpher into a machine-readable format. Furthermore, we will perform some data visualizations of the dataset. We will see that, even with a few lines of code, we can create some pretty useful visualizations. These graphs can give us information about the content of the dataset, its distribution across different papers, and possible parts where the dataset is incomplete.\n",
    "\n",
    "## Dataset\n",
    "\n",
    "For this tutorial, we have selected a dataset from [Delpher](https://www.delpher.nl/). The datasets consists of all issues of 3 different newspapers that were published in the year 1873:\n",
    "- Het Vaderland\n",
    "- De Standaard\n",
    "- De Tijd\n",
    "\n",
    "These newspapers represent different political pillars, so it can be interesting to investigate how these pillars affect a paper's reporting on a particular news event. "
   ]
  },
  {
   "cell_type": "markdown",
   "id": "48f956d6",
   "metadata": {},
   "source": [
    "## Load the data\n",
    "\n",
    "First, we need to load the data into the Notebook. We do this by using [Pandas](https://pandas.pydata.org/), which is a powerfool and widely used tool for data analysis in Python.\n",
    "\n",
    "### Import Pandas into the notebook"
   ]
  },
  {
   "cell_type": "code",
   "execution_count": null,
   "id": "be36f5b4",
   "metadata": {},
   "outputs": [],
   "source": [
    "import pandas as pd"
   ]
  },
  {
   "cell_type": "markdown",
   "id": "5a395d79",
   "metadata": {},
   "source": [
    "### Store a corpus into a Pandas DataFrame\n",
    "\n",
    "A Pandas `DataFrame` is a 2-dimensional data structure, like a table.\n",
    "Let's store some data into Pandas DataFrames.\n",
    "\n",
    "With the `describe()` method, we can get summary statistics for each column in our DataFrame."
   ]
  },
  {
   "cell_type": "code",
   "execution_count": null,
   "id": "48daf4aa",
   "metadata": {},
   "outputs": [],
   "source": [
    "vaderland = pd.read_csv(\"data/HetVaderland_1873.csv\", index_col=0, delimiter=',', encoding='utf-8', quotechar='\"', quoting=0)"
   ]
  },
  {
   "cell_type": "code",
   "execution_count": null,
   "id": "48c4532f",
   "metadata": {},
   "outputs": [],
   "source": [
    "standaard = pd.read_csv(\"data/DeStandaard_1873.csv\", index_col = 0, delimiter=',', encoding='utf-8', quotechar='\"', quoting=0)"
   ]
  },
  {
   "cell_type": "code",
   "execution_count": null,
   "id": "34239d59",
   "metadata": {},
   "outputs": [],
   "source": [
    "tijd = pd.read_csv(\"data/DeTijd_1873.csv\", index_col = 0, delimiter=',', encoding='utf-8', quotechar='\"', quoting=0)"
   ]
  },
  {
   "cell_type": "markdown",
   "id": "b233ed4e-498f-49a7-88ed-85c114607b4e",
   "metadata": {},
   "source": [
    "#### Describe corpus 'vaderland'\n",
    "\n",
    "Try to anwer these questions:\n",
    "* How many unique paper identifiers does the corpus have?\n",
    "* What is the type of all papers in the corpus?\n",
    "* What date-value is most common?\n",
    "* How many times does this value occur in the corpus?"
   ]
  },
  {
   "cell_type": "code",
   "execution_count": null,
   "id": "26ca74e8-d71b-4487-b65b-df2e8daf53b9",
   "metadata": {},
   "outputs": [],
   "source": [
    "vaderland.describe()"
   ]
  },
  {
   "attachments": {},
   "cell_type": "markdown",
   "id": "156f80fe-1673-425d-a3da-a6d92591d079",
   "metadata": {},
   "source": [
    "#### inspect DataFrame 'standaard'\n",
    "\n",
    "Try to inspect it yourself with the example above. First create a new Code cell below this one."
   ]
  },
  {
   "cell_type": "markdown",
   "id": "e563cf11-d389-4f9a-bf2f-6825754041f7",
   "metadata": {},
   "source": [
    "#### inspect DataFrame 'tijd'\n",
    "\n",
    "Try to inspect it yourself with the example above. First create a new Code cell below this one."
   ]
  },
  {
   "cell_type": "markdown",
   "id": "063087ff",
   "metadata": {},
   "source": [
    "### Combine the datasets into one big DataFrame"
   ]
  },
  {
   "cell_type": "code",
   "execution_count": null,
   "id": "f466d689",
   "metadata": {},
   "outputs": [],
   "source": [
    "data = pd.concat([vaderland, standaard, tijd])"
   ]
  },
  {
   "cell_type": "markdown",
   "id": "33bc15dc",
   "metadata": {},
   "source": [
    "### Add month and day to dataset\n",
    "\n",
    "In many datasets, dates are stored as strings that aren't directly interpretable as dates by Pandas.\n",
    "This can potentially cause issues when performing date-based operations such as sorting chronologically.\n",
    "To address this problem, we convert the date field to a proper datetime object with the `to_datetime` method.\n",
    "\n",
    "We will then extract the month and day from the date. Here is how we do this."
   ]
  },
  {
   "cell_type": "code",
   "execution_count": null,
   "id": "3ed9a039-80e8-46cf-9ebf-edbc67d41a9c",
   "metadata": {},
   "outputs": [],
   "source": [
    "data.dtypes"
   ]
  },
  {
   "cell_type": "code",
   "execution_count": null,
   "id": "c3e55842",
   "metadata": {},
   "outputs": [],
   "source": [
    "data[\"date\"] = pd.to_datetime(data[\"date\"])"
   ]
  },
  {
   "cell_type": "code",
   "execution_count": null,
   "id": "5b23a309",
   "metadata": {},
   "outputs": [],
   "source": [
    "data['month'] = data['date'].dt.strftime(\"%B\")\n",
    "data['day'] = data['date'].dt.strftime(\"%A\")"
   ]
  },
  {
   "cell_type": "code",
   "execution_count": null,
   "id": "6b5ed241",
   "metadata": {},
   "outputs": [],
   "source": [
    "data.head(2)"
   ]
  },
  {
   "cell_type": "markdown",
   "id": "f94209dc",
   "metadata": {},
   "source": [
    "We have now added the month and day on which an article was published in separate columns. For future purposes, it is convenient to sort the DataFrame by date."
   ]
  },
  {
   "cell_type": "code",
   "execution_count": null,
   "id": "fa09c882",
   "metadata": {},
   "outputs": [],
   "source": [
    "data = data.sort_values(by='date')\n",
    "data.head(2)"
   ]
  },
  {
   "cell_type": "markdown",
   "id": "75638731",
   "metadata": {},
   "source": [
    "As you can see, the first rows of the DataFrame now contain the articles from January 1st. "
   ]
  },
  {
   "cell_type": "markdown",
   "id": "7e224e0b",
   "metadata": {},
   "source": [
    "## Visualise the data\n",
    "\n",
    "Pandas has plotting functionality built-in."
   ]
  },
  {
   "cell_type": "markdown",
   "id": "e250c9b1",
   "metadata": {},
   "source": [
    "### Unique number of newspapers"
   ]
  },
  {
   "cell_type": "code",
   "execution_count": null,
   "id": "eba3d6ee",
   "metadata": {},
   "outputs": [],
   "source": [
    "unique_newspapers = data.groupby('krantnaam')['oaiIdentifier'].nunique()\n",
    "df_unique_newspapers = unique_newspapers.to_frame(name='unique_value')\n",
    "df_unique_newspapers"
   ]
  },
  {
   "cell_type": "markdown",
   "id": "981c3964",
   "metadata": {},
   "source": [
    "We notice that there is 1 article with the assigned newspaper title 'De TÄ³d : godsdienstig-staatkundig dagblad'. This is a typo, and we want to add this instance to the list of articles from De Tijd."
   ]
  },
  {
   "cell_type": "code",
   "execution_count": null,
   "id": "f2205750",
   "metadata": {},
   "outputs": [],
   "source": [
    "data.loc[data['krantnaam'] == 'De TÄ³d : godsdienstig-staatkundig dagblad', 'krantnaam'] = 'De Tĳd : godsdienstig-staatkundig dagblad'\n",
    "\n",
    "unique_newspapers = data.groupby('krantnaam')['oaiIdentifier'].nunique()\n",
    "df_unique_newspapers = unique_newspapers.to_frame(name='unique_value')\n",
    "df_unique_newspapers"
   ]
  },
  {
   "cell_type": "code",
   "execution_count": null,
   "id": "159b2c11",
   "metadata": {},
   "outputs": [],
   "source": [
    "unique_newspapers.plot(kind = 'barh', title = \"Unique number of newspaper issues in 1873 (in Delpher)\")"
   ]
  },
  {
   "cell_type": "markdown",
   "id": "bfecd60e",
   "metadata": {},
   "source": [
    "## Creating plots with matplotlib\n",
    "\n",
    "We can also use the matplotlib library for creating plots. It has more possibilities. "
   ]
  },
  {
   "cell_type": "code",
   "execution_count": null,
   "id": "7bca138d-4f90-4336-bf4a-363ccd9fa188",
   "metadata": {},
   "outputs": [],
   "source": [
    "import matplotlib.pyplot as plt\n",
    "\n",
    "# Sample data for unique_newspapers\n",
    "\n",
    "# Plotting the horizontal bar chart\n",
    "plt.figure(figsize=(10, 1))\n",
    "plt.barh(unique_newspapers.index, unique_newspapers, color='skyblue')\n",
    "plt.xlabel('Number of Issues')\n",
    "plt.ylabel('Paper Ttitle')\n",
    "plt.title('Unique number of newspaper issues in 1873 (in Delpher)')\n",
    "plt.xticks(fontsize=9)  # x-axis tick labels to 9 points\n",
    "plt.yticks(fontsize=9)  # y-axis tick labels to 9 points\n",
    "plt.gca().invert_yaxis()  # Invert y-axis to match the typical orientation\n",
    "plt.show()\n"
   ]
  },
  {
   "cell_type": "markdown",
   "id": "51e1da4f",
   "metadata": {},
   "source": [
    "We now have a pretty good visualization of the distribution of newspapers in the corpus. Of course, there are more possibilities when it comes to visualizing the basic information of a corpus. Let's see how we can create a pie chart. "
   ]
  },
  {
   "cell_type": "code",
   "execution_count": null,
   "id": "b69304e2",
   "metadata": {},
   "outputs": [],
   "source": [
    "import matplotlib.pyplot as plt\n",
    "\n",
    "# Plotting the pie chart\n",
    "plt.figure(figsize=(2,2))\n",
    "plt.pie(unique_newspapers, labels=unique_newspapers.index, autopct='%1.1f%%', startangle=90)\n",
    "plt.title('Distribution of Newspaper Issues in 1873 (in Delpher)')\n",
    "plt.axis('equal')  # Equal aspect ratio ensures that pie is drawn as a circle.\n",
    "\n",
    "plt.show()"
   ]
  },
  {
   "cell_type": "markdown",
   "id": "931a4265",
   "metadata": {},
   "source": [
    "### Number of articles per newspaper\n",
    "\n",
    "The articles are identified by the 'identifier' column of the DataFrame.\n",
    "\n",
    "Next, let's look at the distribution of articles per newspaper. With a simple bar plot, we can visualize the total number of articles for each newspaper. "
   ]
  },
  {
   "cell_type": "code",
   "execution_count": null,
   "id": "9f98d373-d462-4640-a1db-12c71c8a670f",
   "metadata": {},
   "outputs": [],
   "source": [
    "unique_articles = data.groupby('krantnaam')['identifier'].nunique()"
   ]
  },
  {
   "cell_type": "code",
   "execution_count": null,
   "id": "842ba34b",
   "metadata": {},
   "outputs": [],
   "source": [
    "import matplotlib.pyplot as plt\n",
    "\n",
    "# Plotting the horizontal bar chart\n",
    "plt.figure(figsize=(10, 1))\n",
    "plt.barh(unique_articles.index, unique_articles, color='skyblue')\n",
    "plt.xlabel('number of articles')\n",
    "plt.ylabel('paper title')\n",
    "plt.title('Number of unique articles')\n",
    "plt.xticks(fontsize=9)  # x-axis tick labels to 9 points\n",
    "plt.yticks(fontsize=9)  # y-axis tick labels to 9 points\n",
    "plt.gca().invert_yaxis()  # Invert y-axis to match the typical orientation\n",
    "plt.show()"
   ]
  },
  {
   "cell_type": "markdown",
   "id": "0d8c7a8d",
   "metadata": {},
   "source": [
    "We see that, in terms of the number of articles, our dataset is imbalanced. While the number of newspaper issues is evenly distibuted accross the different newspapers, there are significantly more articles from De Tijd. One explanation could be that De Tijd contains more shorter articles than the other newspapers.  "
   ]
  },
  {
   "cell_type": "markdown",
   "id": "50e3cfc8-8380-477f-a100-315e37bd5830",
   "metadata": {},
   "source": [
    "### Number of unique newspaper issues per month\n",
    "\n",
    "What about the distribution of newspapers over different months? This information can help you find gaps in your datasets."
   ]
  },
  {
   "cell_type": "code",
   "execution_count": null,
   "id": "d56de4bb",
   "metadata": {},
   "outputs": [],
   "source": [
    "import matplotlib.pyplot as plt\n",
    "\n",
    "# Step 1: Filter the data for krantnaam == 'Het vaderland'\n",
    "filtered_data = data[data['krantnaam'] == 'Het vaderland : staat- en letterkundig nieuwsblad']\n",
    "\n",
    "# Step 2: Group by month and count unique oaiIdentifier (which is a paper issue identifier)\n",
    "month_values = filtered_data.groupby('month')['oaiIdentifier'].nunique()\n",
    "\n",
    "# Step 3: Sort months chronologically\n",
    "# Reindex to put months in the correct order\n",
    "months = [\n",
    "    'January', 'February', 'March', 'April', 'May', 'June',\n",
    "    'July', 'August', 'September', 'October', 'November', 'December'\n",
    "]\n",
    "month_values = month_values.reindex(months, fill_value=0)  # Fill missing days with 0\n",
    "\n",
    "# Step 4: Plotting the vertical bar chart\n",
    "plt.figure(figsize=(10, 4))\n",
    "plt.bar(month_values.index, month_values, color='skyblue')\n",
    "plt.xlabel('Months')\n",
    "plt.ylabel('Total Number of Newspapers')\n",
    "plt.title('Total Number of Newspaper Issues per Month')\n",
    "plt.xticks(fontsize=9, rotation=45)  # Rotate x-axis labels for better readability\n",
    "plt.yticks(fontsize=9)\n",
    "plt.tight_layout()  # Adjust layout for better spacing\n",
    "plt.show()\n"
   ]
  },
  {
   "cell_type": "markdown",
   "id": "1ef1032b",
   "metadata": {},
   "source": [
    "### try yourself\n",
    "\n",
    "Can you plot the distribution for the other two papers?\n",
    "\n",
    "Adjust the code below to plot the histogram for the other two newspapers."
   ]
  },
  {
   "cell_type": "code",
   "execution_count": null,
   "id": "c2ab17a2-2670-4d1c-8ace-8e9887c84420",
   "metadata": {},
   "outputs": [],
   "source": [
    "import matplotlib.pyplot as plt\n",
    "\n",
    "# Step 1: Filter the data for krantnaam == '<krantnaam>'\n",
    "filtered_data = data[data['krantnaam'] == '<krantnaam>']\n",
    "\n",
    "# Step 2: Group by month and count unique oaiIdentifier (which is a paper issue identifier)\n",
    "month_values = filtered_data.groupby('month')['oaiIdentifier'].nunique()\n",
    "\n",
    "# Step 3: Sort months chronologically\n",
    "# Reindex to put months in the correct order\n",
    "months = [\n",
    "    'January', 'February', 'March', 'April', 'May', 'June',\n",
    "    'July', 'August', 'September', 'October', 'November', 'December'\n",
    "]\n",
    "month_values = month_values.reindex(months, fill_value=0)  # Fill missing days with 0\n",
    "\n",
    "# Step 4: Plotting the vertical bar chart\n",
    "plt.figure(figsize=(10, 4))\n",
    "plt.bar(month_values.index, month_values, color='skyblue')\n",
    "plt.xlabel('Months')\n",
    "plt.ylabel('Total Number of Newspapers')\n",
    "plt.title('Total Number of Newspaper Issues per Month')\n",
    "plt.xticks(fontsize=9, rotation=45)  # Rotate x-axis labels for better readability\n",
    "plt.yticks(fontsize=9)\n",
    "plt.tight_layout()  # Adjust layout for better spacing\n",
    "plt.show()\n"
   ]
  },
  {
   "cell_type": "markdown",
   "id": "55050bd4",
   "metadata": {},
   "source": [
    "### Days on which the newspaper were published\n",
    "\n",
    "Now let's take a look at the days on which the newspapers in the corpus were published. Does one day stand out, either because the bars peak or drop on that day?"
   ]
  },
  {
   "cell_type": "code",
   "execution_count": null,
   "id": "ce7a37e3-c183-487c-bd06-8cdc2c726052",
   "metadata": {},
   "outputs": [],
   "source": [
    "weekday_values = data.groupby(['day'])['oaiIdentifier'].nunique()\n",
    "weekday_values"
   ]
  },
  {
   "cell_type": "code",
   "execution_count": null,
   "id": "74da7d07",
   "metadata": {},
   "outputs": [],
   "source": [
    "import matplotlib.pyplot as plt\n",
    "\n",
    "# Reindex to include all days of the week in the correct order\n",
    "days_of_week = ['Monday', 'Tuesday', 'Wednesday', 'Thursday', 'Friday', 'Saturday', 'Sunday']\n",
    "weekday_values = weekday_values.reindex(days_of_week, fill_value=0)  # Fill missing days with 0\n",
    "\n",
    "# Plotting the vertical bar chart\n",
    "plt.figure(figsize=(6, 3))\n",
    "plt.bar(weekday_values.index, weekday_values, color='skyblue')\n",
    "plt.xlabel('days')\n",
    "plt.ylabel('total number of newspapers')\n",
    "plt.title('Total number of newspaper issues per day of the week')\n",
    "plt.xticks(fontsize=9)  # x-axis tick labels size\n",
    "plt.yticks(fontsize=9)  # y-axis tick labels size\n",
    "plt.show()"
   ]
  },
  {
   "cell_type": "markdown",
   "id": "8d2487cb",
   "metadata": {},
   "source": [
    "We can see that the newspaper issues are evenly distributed over the days of the week. This generally is good news!"
   ]
  }
 ],
 "metadata": {
  "kernelspec": {
   "display_name": "Python 3 (ipykernel)",
   "language": "python",
   "name": "python3"
  },
  "language_info": {
   "codemirror_mode": {
    "name": "ipython",
    "version": 3
   },
   "file_extension": ".py",
   "mimetype": "text/x-python",
   "name": "python",
   "nbconvert_exporter": "python",
   "pygments_lexer": "ipython3",
   "version": "3.9.19"
  }
 },
 "nbformat": 4,
 "nbformat_minor": 5
}
